{
 "cells": [
  {
   "cell_type": "code",
   "execution_count": null,
   "metadata": {},
   "outputs": [],
   "source": [
    "'''获取并预处理原始数据集'''\n",
    "import pandas as pd\n",
    "df = pd.read_csv('breast-cancer-wisconsin.data.txt')\n",
    "\n",
    "#将所有列中为空的或未知的数据用-99999替代。\n",
    "df.replace('?', -99999,inplace=True)\n",
    "df.fillna(-99999, inplace=True)\n",
    "\n",
    "# 去除id列，其与肿瘤是否为良性还是恶性无关，加入会严重影响分类的结果。\n",
    "df.drop(['id'], 1, inplace=True)\n",
    "\n",
    "df.head()"
   ]
  },
  {
   "cell_type": "code",
   "execution_count": null,
   "metadata": {},
   "outputs": [],
   "source": [
    "'''将数据集划分为训练集及测试集合'''\n",
    "import numpy as np\n",
    "X = np.array(df.drop(['class'], 1))\n",
    "y = np.array(df['class'])\n",
    "\n",
    "from sklearn.model_selection import train_test_split\n",
    "X_train, X_test, y_train, y_test = train_test_split(X, y, test_size=0.3)"
   ]
  },
  {
   "cell_type": "code",
   "execution_count": null,
   "metadata": {},
   "outputs": [],
   "source": [
    "'''选择算法、训练算法并测试算法'''\n",
    "from sklearn import svm, neighbors\n",
    "cls_dict={\n",
    "    'SVM-SVC':svm.SVC(),\n",
    "    'KNN':neighbors.KNeighborsClassifier()\n",
    "}\n",
    "\n",
    "# 训练并测试算法：若算法需要调优，可手动删除model序列化文件。\n",
    "for name, cls in cls_dict.items():\n",
    "    try:\n",
    "        import pickle\n",
    "        with open('%s.pickle' % name, 'rb') as f:\n",
    "            cls = pickle.load(f)\n",
    "    except Exception, e:\n",
    "        # 训练算法\n",
    "        cls.fit(X_train, y_train)\n",
    "        print e\n",
    "\n",
    "        # 序列化算法\n",
    "        with open('%s.pickle' % name, 'wb') as f:\n",
    "            pickle.dump(cls, f)\n",
    "\n",
    "    # 测试算法\n",
    "    print \"%s Algorithm Accuracy: %s\" % (name, cls.score(X_test, y_test))\n",
    "\n",
    "    # 预测\n",
    "    samples = np.array([[4, 2, 1, 1, 1, 2, 3, 2, 1], [4, 2, 1, 2, 2, 2, 3, 2, 1]])\n",
    "    samples = samples.reshape(len(samples), -1)\n",
    "    prediction = cls.predict(samples)\n",
    "    print \"%s Algorithm prediction: %s\\n\" % (name, prediction)"
   ]
  }
 ],
 "metadata": {
  "kernelspec": {
   "display_name": "Python 2",
   "language": "python",
   "name": "python2"
  },
  "language_info": {
   "codemirror_mode": {
    "name": "ipython",
    "version": 2
   },
   "file_extension": ".py",
   "mimetype": "text/x-python",
   "name": "python",
   "nbconvert_exporter": "python",
   "pygments_lexer": "ipython2",
   "version": "2.7.13"
  }
 },
 "nbformat": 4,
 "nbformat_minor": 2
}
