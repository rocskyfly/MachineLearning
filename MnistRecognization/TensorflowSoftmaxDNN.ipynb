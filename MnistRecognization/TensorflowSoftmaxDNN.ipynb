{
 "cells": [
  {
   "cell_type": "code",
   "execution_count": null,
   "metadata": {},
   "outputs": [],
   "source": [
    "import tensorflow as tf\n",
    "\n",
    "def neural_network_mode(x_train, sizes=list((784, 400, 10))):\n",
    "    \"\"\"定义神经网络模型\"\"\"\n",
    "    num_layers = len(sizes)\n",
    "    activation = x_train\n",
    "    for layer in range(num_layers - 1):\n",
    "        layer = {'weights': tf.Variable(tf.random_normal([sizes[layer], sizes[layer + 1]])),\n",
    "                 'biases': tf.Variable(tf.random_normal([sizes[layer + 1]]))}\n",
    "\n",
    "        # input_data * weights + biases; define activation function\n",
    "        activation = tf.add(tf.matmul(activation, layer['weights']), layer['biases'])\n",
    "        activation = tf.nn.sigmoid(activation)\n",
    "\n",
    "    return activation"
   ]
  },
  {
   "cell_type": "code",
   "execution_count": null,
   "metadata": {},
   "outputs": [],
   "source": [
    "def train_neural_network(x_train, y_train, sizes, batch_size=25, hm_epochs=20):\n",
    "    output = neural_network_mode(x_train, sizes)\n",
    "\n",
    "    # 定义操作：softmax的交叉熵代价函数。\n",
    "    cost = tf.reduce_mean(tf.nn.softmax_cross_entropy_with_logits(logits=output, labels=y_train))\n",
    "\n",
    "    # 定义操作：选择AdamOptimizer（A Method for Stochastic Optimization）。\n",
    "    optimizer = tf.train.AdamOptimizer().minimize(cost)\n",
    "\n",
    "    # 定义操作：初始化所有变量。\n",
    "    init = tf.global_variables_initializer()\n",
    "\n",
    "    # 创建一个会话对象，启动图执行图中的所有操作。\n",
    "    with tf.Session() as sess:\n",
    "        # 执行操作：初始化所有变量\n",
    "        sess.run(init)\n",
    "\n",
    "        # train neural network\n",
    "        for epoch in range(hm_epochs):\n",
    "            epoch_loss = 0\n",
    "\n",
    "            for _ in range(int(mnist.train.num_examples / float(batch_size))):\n",
    "                # 获取大小为batch_size的小批量数据\n",
    "                epoch_x, epoch_y = mnist.train.next_batch(batch_size)\n",
    "\n",
    "                # 执行操作：执行优化和交叉熵\n",
    "                _, c = sess.run([optimizer, cost], feed_dict={x: epoch_x, y: epoch_y})\n",
    "\n",
    "                # 累积误差\n",
    "                epoch_loss += c\n",
    "\n",
    "            print \"Epoch %d/%d, loss: %f\" % (epoch + 1, hm_epochs, epoch_loss)\n",
    "\n",
    "        # 找出测试数据集中那些预测正确的标签。\n",
    "        correct_predictions = tf.equal(tf.argmax(output, 1), tf.argmax(y, 1))\n",
    "\n",
    "        # 确定正确预测项的比例，把布尔值转换成浮点数，然后取平均值。\n",
    "        accuracy = tf.reduce_mean(tf.cast(correct_predictions, 'float'))\n",
    "\n",
    "        print \"Accuracy: \", accuracy.eval({x: mnist.test.images, y: mnist.test.labels})"
   ]
  },
  {
   "cell_type": "code",
   "execution_count": null,
   "metadata": {},
   "outputs": [],
   "source": [
    "if __name__ == '__main__':\n",
    "    # 读取mnist数据集\n",
    "    from tensorflow.contrib.learn.python.learn.datasets.mnist import read_data_sets\n",
    "    mnist = read_data_sets(\"MNIST_data/\", one_hot=True)\n",
    "\n",
    "    # 定义神经网络结构\n",
    "    layers = [784, 600, 10]\n",
    "\n",
    "    # height x width\n",
    "    x = tf.placeholder('float', [None, 784])\n",
    "    y = tf.placeholder('float')\n",
    "\n",
    "    train_neural_network(x, y, layers)"
   ]
  }
 ],
 "metadata": {
  "kernelspec": {
   "display_name": "Python 2",
   "language": "python",
   "name": "python2"
  },
  "language_info": {
   "codemirror_mode": {
    "name": "ipython",
    "version": 2
   },
   "file_extension": ".py",
   "mimetype": "text/x-python",
   "name": "python",
   "nbconvert_exporter": "python",
   "pygments_lexer": "ipython2",
   "version": "2.7.13"
  }
 },
 "nbformat": 4,
 "nbformat_minor": 2
}
