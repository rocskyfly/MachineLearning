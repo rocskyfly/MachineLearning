{
 "cells": [
  {
   "cell_type": "code",
   "execution_count": null,
   "metadata": {},
   "outputs": [],
   "source": [
    "import os\n",
    "import tflearn\n",
    "from tflearn.layers.conv import conv_2d, max_pool_2d\n",
    "from tflearn.layers.core import input_data, dropout, fully_connected\n",
    "from tflearn.layers.estimator import regression\n",
    "import tflearn.datasets.mnist as mnist"
   ]
  },
  {
   "cell_type": "code",
   "execution_count": null,
   "metadata": {},
   "outputs": [],
   "source": [
    "if __name__ == '__main__':\n",
    "    x, y, test_x, test_y = mnist.load_data(one_hot=True)  # 读取mnist数据集\n",
    "    x = x.reshape([-1, 28, 28, 1])\n",
    "    test_x = test_x.reshape([-1, 28, 28, 1])\n",
    "\n",
    "    input_data = input_data(shape=[None, 28, 28, 1], name='input')\n",
    "\n",
    "    # nb_filter表示输出通道数，filter_size表示卷积核大小5x5\n",
    "    conv1 = conv_2d(input_data, nb_filter=32, filter_size=5, activation='relu')\n",
    "    \n",
    "    # kernel_size表示池化窗口大小2x2\n",
    "    pool1 = max_pool_2d(conv1, kernel_size=2)\n",
    "\n",
    "    conv2 = conv_2d(pool1, nb_filter=64, filter_size=5, activation='relu')\n",
    "\n",
    "    pool2 = max_pool_2d(conv2, kernel_size=2)\n",
    "\n",
    "    fc = fully_connected(pool2, n_units=1024, activation='relu')\n",
    "    fc = dropout(fc, 0.8)\n",
    "\n",
    "    output = fully_connected(fc, n_units=10, activation='softmax')\n",
    "\n",
    "    network = regression(output, optimizer='adam', learning_rate=0.01, loss='categorical_crossentropy', name='targets')\n",
    "\n",
    "    model = tflearn.DNN(network, tensorboard_dir='log')\n",
    "\n",
    "    if os.path.exists('tflearncnn.model.index') and os.path.exists('tflearncnn.model.meta'):\n",
    "        model.load('tflearncnn.model')\n",
    "    else:\n",
    "        model.fit({'input': x}, {'targets': y}, n_epoch=10,\n",
    "                  validation_set=({'input': test_x}, {'targets': test_y}),\n",
    "                  snapshot_step=500, batch_size=128, show_metric=True, run_id='mnist')\n",
    "        model.save('tflearncnn.model')\n",
    "    \n",
    "    # 做出预测\n",
    "    print model.predict([test_x[1]])"
   ]
  }
 ],
 "metadata": {
  "kernelspec": {
   "display_name": "Python 2",
   "language": "python",
   "name": "python2"
  },
  "language_info": {
   "codemirror_mode": {
    "name": "ipython",
    "version": 2
   },
   "file_extension": ".py",
   "mimetype": "text/x-python",
   "name": "python",
   "nbconvert_exporter": "python",
   "pygments_lexer": "ipython2",
   "version": "2.7.13"
  }
 },
 "nbformat": 4,
 "nbformat_minor": 2
}
