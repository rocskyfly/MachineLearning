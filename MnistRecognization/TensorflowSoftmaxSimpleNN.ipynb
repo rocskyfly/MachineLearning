{
 "cells": [
  {
   "cell_type": "code",
   "execution_count": null,
   "metadata": {},
   "outputs": [],
   "source": [
    "# 小批量随机梯度下降迭代次数\n",
    "hm_epochs = 20\n",
    "\n",
    "# 小批量随机梯度下降每次迭代的数据数量\n",
    "batch_size = 25"
   ]
  },
  {
   "cell_type": "code",
   "execution_count": null,
   "metadata": {},
   "outputs": [],
   "source": [
    "# 读取mnist数据集\n",
    "from tensorflow.contrib.learn.python.learn.datasets.mnist import read_data_sets\n",
    "mnist = read_data_sets(\"MNIST_data/\", one_hot=True)"
   ]
  },
  {
   "cell_type": "code",
   "execution_count": null,
   "metadata": {},
   "outputs": [],
   "source": [
    "import tensorflow as tf\n",
    "\n",
    "# x占位符：张量[None, 784]表示第一维可以有任意多个输入，第二位表示长度为784的图片\n",
    "x = tf.placeholder(tf.float32, [None, 784])\n",
    "\n",
    "# 权重变量\n",
    "W = tf.Variable(tf.zeros([784, 10]))\n",
    "\n",
    "# 偏置变量\n",
    "b = tf.Variable(tf.zeros([10]))\n",
    "\n",
    "# 输出层运用softmax算法\n",
    "y = tf.nn.softmax(tf.matmul(x, W) + b)\n",
    "\n",
    "# 占位符：表示x的实际标签值\n",
    "y_ = tf.placeholder(\"float\", [None, 10])"
   ]
  },
  {
   "cell_type": "code",
   "execution_count": null,
   "metadata": {},
   "outputs": [],
   "source": [
    "# 定义操作：softmax的交叉熵代价函数\n",
    "cross_entropy = -tf.reduce_sum(y_ * tf.log(y))\n",
    "\n",
    "# 定义操作：选择梯度下降算法优化器，学习率为0.01，代价函数为softmax的交叉熵代价函数\n",
    "optimizer = tf.train.GradientDescentOptimizer(learning_rate=0.01).minimize(cross_entropy)\n",
    "\n",
    "# 定义操作：获取预测准确的值，得tf.argmax返回最大的那个数值所在的下标。\n",
    "correct_predictions = tf.equal(tf.argmax(y, 1), tf.argmax(y_, 1))\n",
    "\n",
    "# 定义操作：初始化所有变量\n",
    "init = tf.global_variables_initializer()"
   ]
  },
  {
   "cell_type": "code",
   "execution_count": null,
   "metadata": {},
   "outputs": [],
   "source": [
    "# 创建一个会话对象，启动图执行图中的所有操作。\n",
    "with tf.Session as sess:\n",
    "    # 执行操作：初始化所有变量\n",
    "    sess.run(init)\n",
    "    \n",
    "    for epoch in range(hm_epochs):\n",
    "        epoch_loss = 0\n",
    "        for _ in range(int(mnist.train.num_examples / float(batch_size))):\n",
    "            # 获取大小为batch_size的小批量数据\n",
    "            batch_xs, batch_ys = mnist.train.next_batch(batch_size)\n",
    "            \n",
    "            # 执行操作：执行优化和交叉熵\n",
    "            _, c = sess.run([optimizer, cross_entropy], feed_dict={x: batch_xs, y_: batch_ys})\n",
    "            \n",
    "            # 累积误差\n",
    "            epoch_loss += c\n",
    "            \n",
    "            print \"Epoch %d/%d, loss: %s\" % (epoch + 1, hm_epochs, epoch_loss)\n",
    "    \n",
    "    # 执行操作：找出测试数据集中那些预测正确的标签。\n",
    "    correct_predictions = sess.run(correct_predictions, feed_dict={x: mnist.test.images, y_: mnist.test.labels})\n",
    "    \n",
    "    # 确定正确预测项的比例，把布尔值转换成浮点数，然后取平均值。\n",
    "    accuracy = tf.reduce_mean(tf.cast(correct_predictions, 'float'))\n",
    "    \n",
    "    print \"Accuracy: \", accuracy.eval({x: mnist.test.images, y: mnist.test.labels})"
   ]
  }
 ],
 "metadata": {
  "kernelspec": {
   "display_name": "Python 2",
   "language": "python",
   "name": "python2"
  },
  "language_info": {
   "codemirror_mode": {
    "name": "ipython",
    "version": 2
   },
   "file_extension": ".py",
   "mimetype": "text/x-python",
   "name": "python",
   "nbconvert_exporter": "python",
   "pygments_lexer": "ipython2",
   "version": "2.7.13"
  }
 },
 "nbformat": 4,
 "nbformat_minor": 2
}
