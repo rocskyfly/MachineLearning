{
 "cells": [
  {
   "cell_type": "code",
   "execution_count": 1,
   "metadata": {},
   "outputs": [],
   "source": [
    "# 数据说明：数据集为12组成人身高、体重、鞋码的组合数据，以及是男性还是女性\"\"\"\n",
    "# [height, weight, shoe size]\n",
    "X = [[181, 80, 44], [177, 70, 43], [160, 60, 38], [154, 54, 37],\n",
    "     [166, 65, 40], [190, 90, 47], [175, 64, 39], [177, 70, 40],\n",
    "     [159, 55, 38], [171, 75, 42], [181, 85, 43], [148, 70, 42]]\n",
    "\n",
    "y = ['male', 'female', 'female', 'female',\n",
    "         'female', 'female', 'female', 'female',\n",
    "         'male', 'female', 'male', 'male']\n",
    "\n",
    "\"\"\"选择决策树算法，训练算法\"\"\"\n",
    "from sklearn import tree\n",
    "try:\n",
    "    with open('DecisionTree.pickle', 'rb') as f:\n",
    "        clf = pickle.load(f)\n",
    "except Exception, e:\n",
    "    # 训练算法\n",
    "    clf = tree.DecisionTreeClassifier()\n",
    "    clf.fit(X, y)\n",
    "\n",
    "    # 序列化算法\n",
    "    with open('DecisionTree.pickle', 'wb') as f:\n",
    "        import pickle\n",
    "        pickle.dump(clf, f)"
   ]
  },
  {
   "cell_type": "code",
   "execution_count": 2,
   "metadata": {},
   "outputs": [
    {
     "name": "stdout",
     "output_type": "stream",
     "text": [
      "['female' 'male']\n"
     ]
    }
   ],
   "source": [
    "# make a prediction.\n",
    "prediction = clf.predict([[190, 70, 43], [156, 60, 36]])\n",
    "print prediction"
   ]
  },
  {
   "cell_type": "code",
   "execution_count": 3,
   "metadata": {},
   "outputs": [
    {
     "data": {
      "text/plain": [
       "'GenderClassifier.pdf'"
      ]
     },
     "execution_count": 3,
     "metadata": {},
     "output_type": "execute_result"
    }
   ],
   "source": [
    "\"\"\"Visualization: graphviz export of the above tree trained on the entire dataset;\n",
    "the results are saved in an output file GenderClassifier.pdf\"\"\"\n",
    "\n",
    "# Graphviz是图形绘制工具,可以很方便的用来绘制结构化的图形网络,支持多种格式输出\n",
    "import graphviz \n",
    "dot_data = tree.export_graphviz(clf, out_file=None,\n",
    "                                feature_names=['height', 'weight', 'shoe size'],\n",
    "                                class_names='gender',\n",
    "                                filled=True, rounded=True,\n",
    "                                special_characters=True)\n",
    "graph = graphviz.Source(dot_data)\n",
    "graph.render('GenderClassifier')"
   ]
  }
 ],
 "metadata": {
  "kernelspec": {
   "display_name": "Python 2",
   "language": "python",
   "name": "python2"
  },
  "language_info": {
   "codemirror_mode": {
    "name": "ipython",
    "version": 2
   },
   "file_extension": ".py",
   "mimetype": "text/x-python",
   "name": "python",
   "nbconvert_exporter": "python",
   "pygments_lexer": "ipython2",
   "version": "2.7.13"
  }
 },
 "nbformat": 4,
 "nbformat_minor": 2
}
