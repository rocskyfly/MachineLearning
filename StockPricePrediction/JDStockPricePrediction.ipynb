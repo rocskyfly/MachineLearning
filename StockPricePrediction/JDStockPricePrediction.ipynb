{
 "cells": [
  {
   "cell_type": "code",
   "execution_count": null,
   "metadata": {},
   "outputs": [],
   "source": [
    "#数据集说明：京东自2014年5月至2017年12月份公司股票交易数据共898条，通过这些历史数据建模，运用机器学习的方法，预测未来的股票价格。"
   ]
  },
  {
   "cell_type": "code",
   "execution_count": null,
   "metadata": {},
   "outputs": [],
   "source": [
    "\"\"\"原始数据处理，并进行特征工程\"\"\"\n",
    "import pandas as pd\n",
    "\n",
    "# 获取原始数据，清洗并处理数据：将所有列中为空的或未知的数据用-99999替代.\n",
    "df = pd.read_csv('JDHistoricalQuotes.csv')\n",
    "df.replace('?', -99999, inplace=True)\n",
    "df.fillna(-99999,inplace=True)\n",
    "\n",
    "df.head()"
   ]
  },
  {
   "cell_type": "code",
   "execution_count": null,
   "metadata": {},
   "outputs": [],
   "source": [
    "#将volume列转换为float类型；对日期进行升序排序；重新设置df的index为日期。\n",
    "df['volume'] = df['volume'] * 1.0\n",
    "df['date'] = pd.to_datetime(df['date'])\n",
    "df.sort_values(by='date', inplace=True)\n",
    "df.set_index(df['date'], inplace=True)\n",
    "\n",
    "df.head()"
   ]
  },
  {
   "cell_type": "code",
   "execution_count": null,
   "metadata": {},
   "outputs": [],
   "source": [
    "#获取数据的关键特征。\n",
    "df['hl_pct']=(df['high']-df['close'])/df['close'] * 100.0\n",
    "df['pct_change'] = (df['close']-df['open'])/df['open']*100.0\n",
    "df =df[['close','hl_pct','pct_change', 'volume']]\n",
    "\n",
    "df.head()"
   ]
  },
  {
   "cell_type": "code",
   "execution_count": null,
   "metadata": {},
   "outputs": [],
   "source": [
    "# 取数据集的最后1%的close作为需要预测的数据，余下的作为训练集和测试数据集\n",
    "import math\n",
    "data_set_percent = 0.01\n",
    "forecast_out = int(math.ceil(data_set_percent * len(df)))\n",
    "df['label'] = df['close'].shift(-forecast_out)\n",
    "df.tail(12)"
   ]
  },
  {
   "cell_type": "code",
   "execution_count": null,
   "metadata": {},
   "outputs": [],
   "source": [
    "#获取数据集的特征，归一化数据集的特征。\n",
    "import numpy as np\n",
    "X = np.array(df.drop('label', 1))\n",
    "\n",
    "from sklearn import preprocessing\n",
    "X = preprocessing.scale(X)"
   ]
  },
  {
   "cell_type": "code",
   "execution_count": null,
   "metadata": {},
   "outputs": [],
   "source": [
    "# 将数据集划分为训练集、测试集以及预测数据集。\n",
    "X_validation = X[:-forecast_out]\n",
    "X_predict = X[-forecast_out:]\n",
    "df.dropna(inplace=True)\n",
    "y=np.array(df['label'])\n",
    "\n",
    "from sklearn.model_selection import train_test_split\n",
    "X_train, X_test, y_train, y_test = train_test_split(X_validation, y, test_size=0.2)\n"
   ]
  },
  {
   "cell_type": "code",
   "execution_count": null,
   "metadata": {},
   "outputs": [],
   "source": [
    "\"\"\"训练模型并评估模型，做出预测\"\"\"\n",
    "\n",
    "from sklearn.linear_model import LinearRegression\n",
    "from sklearn import svm\n",
    "import pickle\n",
    "\n",
    "# 存放模型预测数据\n",
    "forecast_dict = {}\n",
    "\n",
    "# 分别定义四种模型：线性回归、SVM线性回归、SVM多项式回归、SVM高斯回归\n",
    "cls_dict = {\n",
    "    'LineRegression': LinearRegression(n_jobs=10),  # 设置并行数\n",
    "    'SvmLinearRegression': svm.SVR(kernel='linear', C=1e3),\n",
    "    'SvmPolyRegression': svm.SVR(kernel='poly', C=8, degree=3),\n",
    "    'SvmRbfRegression': svm.SVR(kernel='rbf', C=1e3, gamma=0.1)\n",
    "}\n",
    "\n",
    "# 训练并测试算法：并序列化model，若算法需要调优，可手动删除model序列化文件。\n",
    "for name, cls in cls_dict.items():\n",
    "    try:\n",
    "        with open('%s.pickle' % name, 'rb') as f:\n",
    "            cls = pickle.load(f)\n",
    "    except Exception, e:\n",
    "        # 训练算法\n",
    "        cls.fit(X_train, y_train)\n",
    "        print e\n",
    "\n",
    "        # 序列化算法\n",
    "        with open('%s.pickle' % name, 'wb') as f:\n",
    "            pickle.dump(cls, f)\n",
    "\n",
    "    print \"%s Algorithm Accuracy: %s\" % (name, cls.score(X_test, y_test))\n",
    "\n",
    "    forecast_dict.setdefault(name, (cls.predict(X_predict)))"
   ]
  },
  {
   "cell_type": "code",
   "execution_count": null,
   "metadata": {},
   "outputs": [],
   "source": [
    "\"\"\"通过matplotlib图形化展示\"\"\"\n",
    "# 获取所有可以使用的图形样式\n",
    "from matplotlib import style\n",
    "style.available"
   ]
  },
  {
   "cell_type": "code",
   "execution_count": null,
   "metadata": {},
   "outputs": [],
   "source": [
    "# 获取要预测时间点的起点：即dataframe最后一行数据中的index的值（类型为：class pandas._libs.tslib.Timestamp）\n",
    "last_date_object = df.iloc[-1].name\n",
    "last_date_unix = last_date_object.value // 10 ** 9\n",
    "one_day_seconds = 24 * 60 * 60\n",
    "next_date_unix = last_date_unix + one_day_seconds"
   ]
  },
  {
   "cell_type": "code",
   "execution_count": null,
   "metadata": {},
   "outputs": [],
   "source": [
    "for key, predict in forecast_dict.items():\n",
    "    df['forecast-%s' % key ] = np.nan\n",
    "    for value in predict:\n",
    "        from datetime import datetime\n",
    "        next_date = datetime.fromtimestamp(next_date_unix)\n",
    "        next_date_unix += one_day_seconds\n",
    "        df.loc[next_date] = [np.nan for _ in range(len(df.columns)-1)] + [value]\n",
    "    # 回到需要预测时间的起点。\n",
    "    next_date_unix -= one_day_seconds * len(predict)\n",
    "    \n",
    "    if key == 'LineRegression':\n",
    "        color = 'blue'\n",
    "    elif key == 'SvmPolyRegression':\n",
    "        color = 'yellow'\n",
    "    elif key == 'SvmLinearRegression':\n",
    "        color = 'green'\n",
    "    else:\n",
    "        color = 'white'\n",
    "    \n",
    "    df['forecast-%s' % key].plot(label=key, color=color)\n",
    "\n",
    "import matplotlib.pyplot as plt\n",
    "\n",
    "# legend 图例就是为了展示出每个数据对应的图像名称.\n",
    "plt.legend()\n",
    "# plot(x, y)不指定x默认为df的index\n",
    "plt.plot(df['close'], color='red', label='Data')\n",
    "plt.xlabel('Date')\n",
    "plt.ylabel('Price')\n",
    "plt.title('Support Vector Regression')\n",
    "plt.show()"
   ]
  }
 ],
 "metadata": {
  "kernelspec": {
   "display_name": "Python 2",
   "language": "python",
   "name": "python2"
  },
  "language_info": {
   "codemirror_mode": {
    "name": "ipython",
    "version": 2
   },
   "file_extension": ".py",
   "mimetype": "text/x-python",
   "name": "python",
   "nbconvert_exporter": "python",
   "pygments_lexer": "ipython2",
   "version": "2.7.13"
  }
 },
 "nbformat": 4,
 "nbformat_minor": 2
}
